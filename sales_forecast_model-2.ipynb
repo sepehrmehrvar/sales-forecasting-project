{
 "cells": [
  {
   "cell_type": "markdown",
   "id": "f71b6183",
   "metadata": {},
   "source": [
    "# 🧠 Sales Forecasting Project\n",
    "This notebook cleans and models sales data using linear regression to forecast future sales."
   ]
  },
  {
   "cell_type": "code",
   "execution_count": null,
   "id": "ab611e5f",
   "metadata": {},
   "outputs": [],
   "source": [
    "import pandas as pd\n",
    "import numpy as np\n",
    "import matplotlib.pyplot as plt\n",
    "from sklearn.linear_model import LinearRegression\n",
    "from sklearn.model_selection import train_test_split\n",
    "\n",
    "# Load dataset\n",
    "df = pd.read_csv(\"sales_data_dirty.csv\")\n",
    "df['Date'] = pd.to_datetime(df['Date'])"
   ]
  },
  {
   "cell_type": "code",
   "execution_count": null,
   "id": "4cdaea06",
   "metadata": {},
   "outputs": [],
   "source": [
    "# Data Cleaning\n",
    "df['Promo'].fillna(0, inplace=True)\n",
    "df['Customers'].fillna(df['Customers'].mean(), inplace=True)\n",
    "df['Sales'].fillna(df['Sales'].mean(), inplace=True)\n",
    "df['Store'].fillna('Unknown', inplace=True)\n",
    "df['Weather'].fillna('unknown', inplace=True)\n",
    "df['Day_Type'].fillna('unknown', inplace=True)\n",
    "\n",
    "# Feature Engineering\n",
    "df['Weekday'] = df['Date'].dt.weekday\n",
    "df['Store_Code'] = df['Store'].astype('category').cat.codes\n",
    "df['Weather_Code'] = df['Weather'].astype('category').cat.codes\n",
    "df['DayType_Code'] = df['Day_Type'].astype('category').cat.codes"
   ]
  },
  {
   "cell_type": "code",
   "execution_count": null,
   "id": "e1a6885f",
   "metadata": {},
   "outputs": [],
   "source": [
    "# Modeling\n",
    "X = df[['Customers', 'Promo', 'Weekday', 'Store_Code', 'Weather_Code', 'DayType_Code']]\n",
    "y = df['Sales']\n",
    "X_train, X_test, y_train, y_test = train_test_split(X, y, test_size=0.2, random_state=42)\n",
    "\n",
    "model = LinearRegression()\n",
    "model.fit(X_train, y_train)"
   ]
  },
  {
   "cell_type": "code",
   "execution_count": null,
   "id": "c83c906f",
   "metadata": {},
   "outputs": [],
   "source": [
    "# Forecasting next 90 days\n",
    "last_date = df['Date'].max()\n",
    "future_dates = pd.date_range(start=last_date + pd.Timedelta(days=1), periods=90)\n",
    "future_df = pd.DataFrame({'Date': future_dates})\n",
    "future_df['Store'] = 'A'\n",
    "future_df['Store_Code'] = df[df['Store'] == 'A']['Store_Code'].iloc[0]\n",
    "future_df['Promo'] = np.random.choice([0, 1], size=90, p=[0.4, 0.6])\n",
    "future_df['Customers'] = np.random.normal(loc=df['Customers'].mean(), scale=50, size=90).astype(int)\n",
    "future_df['Weather'] = np.random.choice(['sunny', 'rainy', 'snowy'], size=90, p=[0.6, 0.3, 0.1])\n",
    "weather_map = dict(zip(df['Weather'].unique(), df['Weather_Code'].unique()))\n",
    "future_df['Weather_Code'] = future_df['Weather'].map(weather_map)\n",
    "future_df['Weekday'] = future_df['Date'].dt.weekday\n",
    "future_df['Day_Type'] = future_df['Weekday'].map(lambda x: 'weekend' if x >= 5 else 'weekday')\n",
    "daytype_map = dict(zip(df['Day_Type'].unique(), df['DayType_Code'].unique()))\n",
    "future_df['DayType_Code'] = future_df['Day_Type'].map(daytype_map)\n",
    "\n",
    "X_future = future_df[['Customers', 'Promo', 'Weekday', 'Store_Code', 'Weather_Code', 'DayType_Code']]\n",
    "future_df['Predicted_Sales'] = model.predict(X_future)"
   ]
  },
  {
   "cell_type": "code",
   "execution_count": null,
   "id": "41d86c3d",
   "metadata": {},
   "outputs": [],
   "source": [
    "# Plot forecast\n",
    "plt.figure(figsize=(12, 5))\n",
    "plt.plot(future_df['Date'], future_df['Predicted_Sales'], marker='o', color='orange')\n",
    "plt.title('Daily Sales Forecast for the Next 3 Months')\n",
    "plt.xlabel('Date')\n",
    "plt.ylabel('Forecasted Sales')\n",
    "plt.xticks(rotation=45)\n",
    "plt.grid(True)\n",
    "plt.tight_layout()\n",
    "plt.show()"
   ]
  }
 ],
 "metadata": {
  "kernelspec": {
   "display_name": "Python 3 (ipykernel)",
   "language": "python",
   "name": "python3"
  },
  "language_info": {
   "codemirror_mode": {
    "name": "ipython",
    "version": 3
   },
   "file_extension": ".py",
   "mimetype": "text/x-python",
   "name": "python",
   "nbconvert_exporter": "python",
   "pygments_lexer": "ipython3",
   "version": "3.12.4"
  }
 },
 "nbformat": 4,
 "nbformat_minor": 5
}
